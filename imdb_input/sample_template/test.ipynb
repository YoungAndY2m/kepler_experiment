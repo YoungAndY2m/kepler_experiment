{
 "cells": [
  {
   "cell_type": "code",
   "execution_count": 5,
   "metadata": {},
   "outputs": [
    {
     "name": "stdout",
     "output_type": "stream",
     "text": [
      "32-0.json: predicates length = 1\n",
      "24-0.json: predicates length = 10\n",
      "5-0.json: predicates length = 5\n",
      "10-0.json: predicates length = 5\n",
      "20-0.json: predicates length = 8\n",
      "11-0.json: predicates length = 8\n",
      "15-0.json: predicates length = 7\n",
      "33-0.json: predicates length = 9\n",
      "22-0.json: predicates length = 10\n",
      "6-0.json: predicates length = 3\n",
      "13-0.json: predicates length = 5\n",
      "7-1.json: predicates length = 8\n",
      "9-0.json: predicates length = 9\n",
      "5-2.json: predicates length = 5\n",
      "5-1.json: predicates length = 6\n",
      "25-0.json: predicates length = 6\n",
      "7-0.json: predicates length = 7\n",
      "1-3.json: predicates length = 4\n",
      "26-0.json: predicates length = 9\n",
      "2-0.json: predicates length = 2\n",
      "4-0.json: predicates length = 4\n",
      "1-0.json: predicates length = 5\n",
      "6-1.json: predicates length = 3\n",
      "16-0.json: predicates length = 4\n",
      "19-0.json: predicates length = 12\n",
      "1-2.json: predicates length = 5\n",
      "12-0.json: predicates length = 8\n",
      "28-0.json: predicates length = 12\n",
      "18-0.json: predicates length = 5\n",
      "6-2.json: predicates length = 2\n",
      "1-1.json: predicates length = 5\n",
      "17-0.json: predicates length = 3\n",
      "29-0.json: predicates length = 16\n",
      "27-0.json: predicates length = 11\n",
      "21-0.json: predicates length = 9\n",
      "30-0.json: predicates length = 9\n",
      "3-0.json: predicates length = 3\n",
      "8-0.json: predicates length = 7\n",
      "14-0.json: predicates length = 7\n",
      "23-0.json: predicates length = 8\n",
      "31-0.json: predicates length = 7\n"
     ]
    }
   ],
   "source": [
    "import os\n",
    "import json\n",
    "\n",
    "def get_predicates_length_from_json():\n",
    "    json_files = [f for f in os.listdir('.') if f.endswith('.json')]\n",
    "\n",
    "    for json_file in json_files:\n",
    "        try:\n",
    "            with open(json_file, 'r') as f:\n",
    "                data = json.load(f)\n",
    "            \n",
    "            # print(json_file[:-5])\n",
    "\n",
    "            if json_file[:-5] in data and 'predicates' in data[json_file[:-5]]:\n",
    "                predicates_length = len(data[json_file[:-5]]['predicates'])\n",
    "                print(f\"{json_file}: predicates length = {predicates_length}\")\n",
    "            else:\n",
    "                print(f\"{json_file}: 'predicates' not found or missing key.\")\n",
    "\n",
    "        except Exception as e:\n",
    "            print(f\"Error processing {json_file}: {e}\")\n",
    "\n",
    "if __name__ == \"__main__\":\n",
    "    get_predicates_length_from_json()"
   ]
  }
 ],
 "metadata": {
  "kernelspec": {
   "display_name": "Python 3",
   "language": "python",
   "name": "python3"
  },
  "language_info": {
   "codemirror_mode": {
    "name": "ipython",
    "version": 3
   },
   "file_extension": ".py",
   "mimetype": "text/x-python",
   "name": "python",
   "nbconvert_exporter": "python",
   "pygments_lexer": "ipython3",
   "version": "3.11.0"
  }
 },
 "nbformat": 4,
 "nbformat_minor": 2
}
