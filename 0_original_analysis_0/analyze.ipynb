{
 "cells": [
  {
   "cell_type": "markdown",
   "metadata": {},
   "source": [
    "### original plan statistics"
   ]
  },
  {
   "cell_type": "code",
   "execution_count": 2,
   "metadata": {},
   "outputs": [
    {
     "name": "stdout",
     "output_type": "stream",
     "text": [
      "output result original_plan_analysis.csv\n",
      "\n",
      "Found 59\n",
      "- single key: 45\n",
      "- value >= 95%: 59\n"
     ]
    }
   ],
   "source": [
    "import json\n",
    "import csv\n",
    "from typing import Dict, List, Any\n",
    "\n",
    "def analyze_json_file(file_path: str) -> None:\n",
    "    try:\n",
    "        with open(file_path, 'r') as f:\n",
    "            data = json.load(f)\n",
    "    except FileNotFoundError:\n",
    "        print(f\"File not found {file_path}\")\n",
    "        return\n",
    "    except json.JSONDecodeError:\n",
    "        print(\"ERROR\")\n",
    "        return\n",
    "\n",
    "    results = []\n",
    "    \n",
    "    # all query_id\n",
    "    query_ids = sorted(data.keys())\n",
    "    for query_id in query_ids:\n",
    "        methods_data = data[query_id]\n",
    "        \n",
    "        for method in ['cardinality', 'kepler', 'csv']:\n",
    "            if method not in methods_data:\n",
    "                continue\n",
    "                \n",
    "            method_data = methods_data[method]\n",
    "            \n",
    "            # single key\n",
    "            is_single_key = len(method_data.keys()) == 1\n",
    "            \n",
    "            # value >= 200 * 0.95\n",
    "            has_high_value = any(value >= 200 * 0.95 for value in method_data.values())\n",
    "            \n",
    "            # add to result\n",
    "            if is_single_key or has_high_value:\n",
    "                note = []\n",
    "                if is_single_key:\n",
    "                    note.append(\"single_key\")\n",
    "                if has_high_value:\n",
    "                    note.append(\">=0.95\")\n",
    "                \n",
    "                results.append({\n",
    "                    'query_id': query_id,\n",
    "                    'method': method,\n",
    "                    'note': ','.join(note)\n",
    "                })\n",
    "\n",
    "    # csv file\n",
    "    output_file = 'original_plan_analysis.csv'\n",
    "    with open(output_file, 'w', newline='') as f:\n",
    "        writer = csv.DictWriter(f, fieldnames=['query_id', 'method', 'note'])\n",
    "        writer.writeheader()\n",
    "        writer.writerows(results)\n",
    "    \n",
    "    print(f\"output result {output_file}\")\n",
    "    \n",
    "    print(f\"\\nFound {len(results)}\")\n",
    "    single_key_count = sum(1 for r in results if 'single_key' in r['note'])\n",
    "    high_value_count = sum(1 for r in results if '>=0.95' in r['note'])\n",
    "    print(f\"- single key: {single_key_count}\")\n",
    "    print(f\"- value >= 95%: {high_value_count}\")\n",
    "\n",
    "if __name__ == \"__main__\":\n",
    "    analyze_json_file('original_plan_statistics.json')"
   ]
  }
 ],
 "metadata": {
  "kernelspec": {
   "display_name": "yang_test",
   "language": "python",
   "name": "python3"
  },
  "language_info": {
   "codemirror_mode": {
    "name": "ipython",
    "version": 3
   },
   "file_extension": ".py",
   "mimetype": "text/x-python",
   "name": "python",
   "nbconvert_exporter": "python",
   "pygments_lexer": "ipython3",
   "version": "3.10.16"
  }
 },
 "nbformat": 4,
 "nbformat_minor": 2
}
